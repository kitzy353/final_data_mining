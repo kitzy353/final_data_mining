{
 "cells": [
  {
   "cell_type": "markdown",
   "id": "f1fd5eae",
   "metadata": {},
   "source": [
    "# Final project. Work done by: Ali Zhuban, Mukhambet Tolegenov BD2007"
   ]
  },
  {
   "cell_type": "markdown",
   "id": "fff13460",
   "metadata": {},
   "source": [
    "# Task 1. Descriptive statistics"
   ]
  },
  {
   "cell_type": "code",
   "execution_count": 1,
   "id": "5a0fe363",
   "metadata": {},
   "outputs": [],
   "source": [
    "import pandas as pd\n",
    "import matplotlib.pyplot as plt\n",
    "import numpy as np\n",
    "import seaborn as sns\n",
    "from sklearn.metrics import accuracy_score\n",
    "from sklearn.tree import DecisionTreeClassifier\n",
    "df_codes = pd.read_csv('codes.csv', delimiter=';')\n",
    "df_types = pd.read_csv('types.csv',delimiter=';')\n",
    "df_tran = pd.read_csv('transactions.csv',delimiter=';')\n"
   ]
  },
  {
   "cell_type": "code",
   "execution_count": 2,
   "id": "99bdf891",
   "metadata": {},
   "outputs": [
    {
     "data": {
      "text/html": [
       "<div>\n",
       "<style scoped>\n",
       "    .dataframe tbody tr th:only-of-type {\n",
       "        vertical-align: middle;\n",
       "    }\n",
       "\n",
       "    .dataframe tbody tr th {\n",
       "        vertical-align: top;\n",
       "    }\n",
       "\n",
       "    .dataframe thead th {\n",
       "        text-align: right;\n",
       "    }\n",
       "</style>\n",
       "<table border=\"1\" class=\"dataframe\">\n",
       "  <thead>\n",
       "    <tr style=\"text-align: right;\">\n",
       "      <th></th>\n",
       "      <th>client_id</th>\n",
       "      <th>datetime</th>\n",
       "      <th>code</th>\n",
       "      <th>type</th>\n",
       "      <th>sum</th>\n",
       "      <th>type_description</th>\n",
       "      <th>code_description</th>\n",
       "    </tr>\n",
       "  </thead>\n",
       "  <tbody>\n",
       "    <tr>\n",
       "      <th>0</th>\n",
       "      <td>96372458</td>\n",
       "      <td>421 06:33:15</td>\n",
       "      <td>6011</td>\n",
       "      <td>2010</td>\n",
       "      <td>-561478.94</td>\n",
       "      <td>Выдача наличных в АТМ</td>\n",
       "      <td>Финансовые институты — снятие наличности автом...</td>\n",
       "    </tr>\n",
       "    <tr>\n",
       "      <th>1</th>\n",
       "      <td>21717441</td>\n",
       "      <td>55 13:38:47</td>\n",
       "      <td>6011</td>\n",
       "      <td>2010</td>\n",
       "      <td>-44918.32</td>\n",
       "      <td>Выдача наличных в АТМ</td>\n",
       "      <td>Финансовые институты — снятие наличности автом...</td>\n",
       "    </tr>\n",
       "    <tr>\n",
       "      <th>2</th>\n",
       "      <td>14331004</td>\n",
       "      <td>263 12:57:08</td>\n",
       "      <td>6011</td>\n",
       "      <td>2010</td>\n",
       "      <td>-3368873.66</td>\n",
       "      <td>Выдача наличных в АТМ</td>\n",
       "      <td>Финансовые институты — снятие наличности автом...</td>\n",
       "    </tr>\n",
       "    <tr>\n",
       "      <th>3</th>\n",
       "      <td>2444292</td>\n",
       "      <td>355 09:47:45</td>\n",
       "      <td>6011</td>\n",
       "      <td>2010</td>\n",
       "      <td>-65131.56</td>\n",
       "      <td>Выдача наличных в АТМ</td>\n",
       "      <td>Финансовые институты — снятие наличности автом...</td>\n",
       "    </tr>\n",
       "    <tr>\n",
       "      <th>4</th>\n",
       "      <td>2132533</td>\n",
       "      <td>184 20:09:07</td>\n",
       "      <td>6011</td>\n",
       "      <td>2010</td>\n",
       "      <td>-224591.58</td>\n",
       "      <td>Выдача наличных в АТМ</td>\n",
       "      <td>Финансовые институты — снятие наличности автом...</td>\n",
       "    </tr>\n",
       "  </tbody>\n",
       "</table>\n",
       "</div>"
      ],
      "text/plain": [
       "   client_id      datetime  code  type         sum       type_description  \\\n",
       "0   96372458  421 06:33:15  6011  2010  -561478.94  Выдача наличных в АТМ   \n",
       "1   21717441   55 13:38:47  6011  2010   -44918.32  Выдача наличных в АТМ   \n",
       "2   14331004  263 12:57:08  6011  2010 -3368873.66  Выдача наличных в АТМ   \n",
       "3    2444292  355 09:47:45  6011  2010   -65131.56  Выдача наличных в АТМ   \n",
       "4    2132533  184 20:09:07  6011  2010  -224591.58  Выдача наличных в АТМ   \n",
       "\n",
       "                                    code_description  \n",
       "0  Финансовые институты — снятие наличности автом...  \n",
       "1  Финансовые институты — снятие наличности автом...  \n",
       "2  Финансовые институты — снятие наличности автом...  \n",
       "3  Финансовые институты — снятие наличности автом...  \n",
       "4  Финансовые институты — снятие наличности автом...  "
      ]
     },
     "execution_count": 2,
     "metadata": {},
     "output_type": "execute_result"
    }
   ],
   "source": [
    "tran_type = pd.merge(df_tran,df_types,on='type')\n",
    "df = pd.merge(tran_type, df_codes, on='code')\n",
    "df.head()"
   ]
  },
  {
   "cell_type": "code",
   "execution_count": 3,
   "id": "1511463d",
   "metadata": {},
   "outputs": [
    {
     "data": {
      "text/html": [
       "<div>\n",
       "<style scoped>\n",
       "    .dataframe tbody tr th:only-of-type {\n",
       "        vertical-align: middle;\n",
       "    }\n",
       "\n",
       "    .dataframe tbody tr th {\n",
       "        vertical-align: top;\n",
       "    }\n",
       "\n",
       "    .dataframe thead th {\n",
       "        text-align: right;\n",
       "    }\n",
       "</style>\n",
       "<table border=\"1\" class=\"dataframe\">\n",
       "  <thead>\n",
       "    <tr style=\"text-align: right;\">\n",
       "      <th></th>\n",
       "      <th>client_id</th>\n",
       "      <th>sum</th>\n",
       "    </tr>\n",
       "  </thead>\n",
       "  <tbody>\n",
       "    <tr>\n",
       "      <th>count</th>\n",
       "      <td>129998.00</td>\n",
       "      <td>129998.00</td>\n",
       "    </tr>\n",
       "    <tr>\n",
       "      <th>mean</th>\n",
       "      <td>50868223.28</td>\n",
       "      <td>-18078.07</td>\n",
       "    </tr>\n",
       "    <tr>\n",
       "      <th>std</th>\n",
       "      <td>28728559.37</td>\n",
       "      <td>558510.88</td>\n",
       "    </tr>\n",
       "    <tr>\n",
       "      <th>min</th>\n",
       "      <td>22899.00</td>\n",
       "      <td>-41500301.14</td>\n",
       "    </tr>\n",
       "    <tr>\n",
       "      <th>25%</th>\n",
       "      <td>25771743.00</td>\n",
       "      <td>-22436.70</td>\n",
       "    </tr>\n",
       "    <tr>\n",
       "      <th>50%</th>\n",
       "      <td>52358368.00</td>\n",
       "      <td>-5502.49</td>\n",
       "    </tr>\n",
       "    <tr>\n",
       "      <th>75%</th>\n",
       "      <td>75063019.00</td>\n",
       "      <td>-1122.96</td>\n",
       "    </tr>\n",
       "    <tr>\n",
       "      <th>max</th>\n",
       "      <td>99999680.00</td>\n",
       "      <td>67377473.16</td>\n",
       "    </tr>\n",
       "  </tbody>\n",
       "</table>\n",
       "</div>"
      ],
      "text/plain": [
       "        client_id          sum\n",
       "count   129998.00    129998.00\n",
       "mean  50868223.28    -18078.07\n",
       "std   28728559.37    558510.88\n",
       "min      22899.00 -41500301.14\n",
       "25%   25771743.00    -22436.70\n",
       "50%   52358368.00     -5502.49\n",
       "75%   75063019.00     -1122.96\n",
       "max   99999680.00  67377473.16"
      ]
     },
     "execution_count": 3,
     "metadata": {},
     "output_type": "execute_result"
    }
   ],
   "source": [
    "pd.set_option('display.float_format', lambda x: '%.2f' % x)\n",
    "df[['client_id','sum']].describe()"
   ]
  },
  {
   "cell_type": "markdown",
   "id": "9154d59c",
   "metadata": {},
   "source": [
    "# Task 2. Exploratory Data Analysis"
   ]
  },
  {
   "cell_type": "code",
   "execution_count": 4,
   "id": "e4d6d701",
   "metadata": {},
   "outputs": [
    {
     "data": {
      "text/plain": [
       "(129998, 7)"
      ]
     },
     "execution_count": 4,
     "metadata": {},
     "output_type": "execute_result"
    }
   ],
   "source": [
    "df.shape\n",
    "# dataset has 129998 rows and 7 columns"
   ]
  },
  {
   "cell_type": "code",
   "execution_count": 5,
   "id": "a7df4dc8",
   "metadata": {},
   "outputs": [
    {
     "data": {
      "text/plain": [
       "[dtype('int64'), dtype('float64'), dtype('O')]"
      ]
     },
     "execution_count": 5,
     "metadata": {},
     "output_type": "execute_result"
    }
   ],
   "source": [
    "list(set(df.dtypes.tolist()))\n",
    "# data has float, integer, and object type values"
   ]
  },
  {
   "cell_type": "code",
   "execution_count": 6,
   "id": "0151e200",
   "metadata": {},
   "outputs": [
    {
     "data": {
      "text/plain": [
       "1010    30802\n",
       "2010    20204\n",
       "1030    18368\n",
       "1110    17648\n",
       "7070    12915\n",
       "        ...  \n",
       "7025        1\n",
       "7035        1\n",
       "4200        1\n",
       "1000        1\n",
       "2341        1\n",
       "Name: type, Length: 63, dtype: int64"
      ]
     },
     "execution_count": 6,
     "metadata": {},
     "output_type": "execute_result"
    }
   ],
   "source": [
    "df.type.value_counts()"
   ]
  },
  {
   "cell_type": "code",
   "execution_count": 7,
   "id": "c1a80e6d",
   "metadata": {},
   "outputs": [
    {
     "data": {
      "text/plain": [
       "6011    27917\n",
       "6010    18684\n",
       "4814    18641\n",
       "5411    18490\n",
       "4829    11423\n",
       "        ...  \n",
       "1711        1\n",
       "5733        1\n",
       "5172        1\n",
       "9402        1\n",
       "2741        1\n",
       "Name: code, Length: 175, dtype: int64"
      ]
     },
     "execution_count": 7,
     "metadata": {},
     "output_type": "execute_result"
    }
   ],
   "source": [
    "df.code.value_counts()"
   ]
  },
  {
   "cell_type": "code",
   "execution_count": 8,
   "id": "a8ade249",
   "metadata": {
    "scrolled": true
   },
   "outputs": [
    {
     "data": {
      "text/plain": [
       "count   101277.00\n",
       "mean     -7935.83\n",
       "std      13451.62\n",
       "min     -54351.16\n",
       "25%     -11903.35\n",
       "50%      -4491.83\n",
       "75%      -1572.14\n",
       "max      30836.42\n",
       "Name: sum, dtype: float64"
      ]
     },
     "execution_count": 8,
     "metadata": {},
     "output_type": "execute_result"
    }
   ],
   "source": [
    "iqr = df['sum'].quantile(0.75) - df['sum'].quantile(0.25)\n",
    "df_sum = df[(df['sum'] <  (1.5* iqr)+df['sum'].quantile(0.75))  &   (df['sum'] > df['sum'].quantile(0.25) - (1.5*iqr))]\n",
    "df_sum['sum'].describe()\n"
   ]
  },
  {
   "cell_type": "code",
   "execution_count": 9,
   "id": "7695f71a",
   "metadata": {
    "scrolled": false
   },
   "outputs": [
    {
     "name": "stderr",
     "output_type": "stream",
     "text": [
      "C:\\Users\\Ali\\Anaconda3\\lib\\site-packages\\seaborn\\distributions.py:2619: FutureWarning: `distplot` is a deprecated function and will be removed in a future version. Please adapt your code to use either `displot` (a figure-level function with similar flexibility) or `histplot` (an axes-level function for histograms).\n",
      "  warnings.warn(msg, FutureWarning)\n"
     ]
    },
    {
     "data": {
      "text/plain": [
       "<AxesSubplot:xlabel='sum', ylabel='Density'>"
      ]
     },
     "execution_count": 9,
     "metadata": {},
     "output_type": "execute_result"
    },
    {
     "data": {
      "image/png": "[encoded data removed]",
      "text/plain": [
       "<Figure size 648x576 with 1 Axes>"
      ]
     },
     "metadata": {
      "needs_background": "light"
     },
     "output_type": "display_data"
    }
   ],
   "source": [
    "plt.figure(figsize=(9, 8))\n",
    "sns.distplot(df_sum['sum'], color='g', bins=100, hist_kws={'alpha': 0.4})"
   ]
  },
  {
   "cell_type": "code",
   "execution_count": 10,
   "id": "ca563904",
   "metadata": {
    "scrolled": false
   },
   "outputs": [
    {
     "data": {
      "text/plain": [
       "Text(0.5, 41.09375, 'a')"
      ]
     },
     "execution_count": 10,
     "metadata": {},
     "output_type": "execute_result"
    },
    {
     "data": {
      "image/png": "[encoded data removed]",
      "text/plain": [
       "<Figure size 1008x504 with 2 Axes>"
      ]
     },
     "metadata": {
      "needs_background": "light"
     },
     "output_type": "display_data"
    }
   ],
   "source": [
    "plt.figure(figsize=(14,7))\n",
    "plt.title('--')\n",
    "sns.heatmap(data=df.corr(), annot=True)\n",
    "plt.xlabel('a')"
   ]
  },
  {
   "cell_type": "code",
   "execution_count": 11,
   "id": "72e9b923",
   "metadata": {},
   "outputs": [
    {
     "data": {
      "text/plain": [
       "<AxesSubplot:xlabel='type', ylabel='quantity'>"
      ]
     },
     "execution_count": 11,
     "metadata": {},
     "output_type": "execute_result"
    },
    {
     "data": {
      "image/png": "[encoded data removed]",
      "text/plain": [
       "<Figure size 432x288 with 1 Axes>"
      ]
     },
     "metadata": {
      "needs_background": "light"
     },
     "output_type": "display_data"
    }
   ],
   "source": [
    "top5_type = df.groupby(['type'])[['client_id']].size().reset_index(name=\"quantity\").sort_values('quantity',ascending=False).head()\n",
    "sns.barplot(x = top5_type.type, y=top5_type.quantity)\n",
    "#top5_type"
   ]
  },
  {
   "cell_type": "code",
   "execution_count": 12,
   "id": "bb00c73f",
   "metadata": {},
   "outputs": [
    {
     "data": {
      "text/html": [
       "<div>\n",
       "<style scoped>\n",
       "    .dataframe tbody tr th:only-of-type {\n",
       "        vertical-align: middle;\n",
       "    }\n",
       "\n",
       "    .dataframe tbody tr th {\n",
       "        vertical-align: top;\n",
       "    }\n",
       "\n",
       "    .dataframe thead th {\n",
       "        text-align: right;\n",
       "    }\n",
       "</style>\n",
       "<table border=\"1\" class=\"dataframe\">\n",
       "  <thead>\n",
       "    <tr style=\"text-align: right;\">\n",
       "      <th></th>\n",
       "      <th>type</th>\n",
       "      <th>type_description</th>\n",
       "    </tr>\n",
       "  </thead>\n",
       "  <tbody>\n",
       "    <tr>\n",
       "      <th>21</th>\n",
       "      <td>7070</td>\n",
       "      <td>Перевод на карту (с карты) через Мобильный бан...</td>\n",
       "    </tr>\n",
       "    <tr>\n",
       "      <th>52</th>\n",
       "      <td>1030</td>\n",
       "      <td>Оплата услуги. Банкоматы</td>\n",
       "    </tr>\n",
       "    <tr>\n",
       "      <th>87</th>\n",
       "      <td>2010</td>\n",
       "      <td>Выдача наличных в АТМ</td>\n",
       "    </tr>\n",
       "    <tr>\n",
       "      <th>94</th>\n",
       "      <td>1110</td>\n",
       "      <td>Покупка. POS</td>\n",
       "    </tr>\n",
       "    <tr>\n",
       "      <th>122</th>\n",
       "      <td>1010</td>\n",
       "      <td>Покупка. POS</td>\n",
       "    </tr>\n",
       "  </tbody>\n",
       "</table>\n",
       "</div>"
      ],
      "text/plain": [
       "     type                                   type_description\n",
       "21   7070  Перевод на карту (с карты) через Мобильный бан...\n",
       "52   1030                           Оплата услуги. Банкоматы\n",
       "87   2010                              Выдача наличных в АТМ\n",
       "94   1110                                      Покупка. POS \n",
       "122  1010                                      Покупка. POS "
      ]
     },
     "execution_count": 12,
     "metadata": {},
     "output_type": "execute_result"
    }
   ],
   "source": [
    "df_types[df_types.type.isin(top5_type.type)]"
   ]
  },
  {
   "cell_type": "code",
   "execution_count": 13,
   "id": "5d769d76",
   "metadata": {},
   "outputs": [
    {
     "data": {
      "text/plain": [
       "<AxesSubplot:xlabel='code', ylabel='quantity'>"
      ]
     },
     "execution_count": 13,
     "metadata": {},
     "output_type": "execute_result"
    },
    {
     "data": {
      "image/png": "[encoded data removed]",
      "text/plain": [
       "<Figure size 432x288 with 1 Axes>"
      ]
     },
     "metadata": {
      "needs_background": "light"
     },
     "output_type": "display_data"
    }
   ],
   "source": [
    "top5_code = df.groupby(['code'])[['client_id']].size().reset_index(name=\"quantity\").sort_values('quantity', ascending=False).head()\n",
    "sns.barplot(x=top5_code.code, y=top5_code.quantity)"
   ]
  },
  {
   "cell_type": "code",
   "execution_count": 14,
   "id": "6e493e0d",
   "metadata": {},
   "outputs": [
    {
     "data": {
      "text/html": [
       "<div>\n",
       "<style scoped>\n",
       "    .dataframe tbody tr th:only-of-type {\n",
       "        vertical-align: middle;\n",
       "    }\n",
       "\n",
       "    .dataframe tbody tr th {\n",
       "        vertical-align: top;\n",
       "    }\n",
       "\n",
       "    .dataframe thead th {\n",
       "        text-align: right;\n",
       "    }\n",
       "</style>\n",
       "<table border=\"1\" class=\"dataframe\">\n",
       "  <thead>\n",
       "    <tr style=\"text-align: right;\">\n",
       "      <th></th>\n",
       "      <th>code</th>\n",
       "      <th>code_description</th>\n",
       "    </tr>\n",
       "  </thead>\n",
       "  <tbody>\n",
       "    <tr>\n",
       "      <th>69</th>\n",
       "      <td>6011</td>\n",
       "      <td>Финансовые институты — снятие наличности автом...</td>\n",
       "    </tr>\n",
       "    <tr>\n",
       "      <th>77</th>\n",
       "      <td>4814</td>\n",
       "      <td>Звонки с использованием телефонов, считывающих...</td>\n",
       "    </tr>\n",
       "    <tr>\n",
       "      <th>151</th>\n",
       "      <td>6010</td>\n",
       "      <td>Финансовые институты — снятие наличности вручную</td>\n",
       "    </tr>\n",
       "    <tr>\n",
       "      <th>162</th>\n",
       "      <td>4829</td>\n",
       "      <td>Денежные переводы</td>\n",
       "    </tr>\n",
       "    <tr>\n",
       "      <th>167</th>\n",
       "      <td>5411</td>\n",
       "      <td>Бакалейные магазины, супермаркеты</td>\n",
       "    </tr>\n",
       "  </tbody>\n",
       "</table>\n",
       "</div>"
      ],
      "text/plain": [
       "     code                                   code_description\n",
       "69   6011  Финансовые институты — снятие наличности автом...\n",
       "77   4814  Звонки с использованием телефонов, считывающих...\n",
       "151  6010   Финансовые институты — снятие наличности вручную\n",
       "162  4829                                  Денежные переводы\n",
       "167  5411                  Бакалейные магазины, супермаркеты"
      ]
     },
     "execution_count": 14,
     "metadata": {},
     "output_type": "execute_result"
    }
   ],
   "source": [
    "df_codes[df_codes.code.isin(top5_code.code)]"
   ]
  },
  {
   "cell_type": "markdown",
   "id": "0ff88da5",
   "metadata": {},
   "source": [
    "# Task 3. Feature Engineering"
   ]
  },
  {
   "cell_type": "code",
   "execution_count": 15,
   "id": "c373b272",
   "metadata": {},
   "outputs": [
    {
     "data": {
      "text/html": [
       "<div>\n",
       "<style scoped>\n",
       "    .dataframe tbody tr th:only-of-type {\n",
       "        vertical-align: middle;\n",
       "    }\n",
       "\n",
       "    .dataframe tbody tr th {\n",
       "        vertical-align: top;\n",
       "    }\n",
       "\n",
       "    .dataframe thead th {\n",
       "        text-align: right;\n",
       "    }\n",
       "</style>\n",
       "<table border=\"1\" class=\"dataframe\">\n",
       "  <thead>\n",
       "    <tr style=\"text-align: right;\">\n",
       "      <th></th>\n",
       "      <th>client_id</th>\n",
       "      <th>datetime</th>\n",
       "      <th>code</th>\n",
       "      <th>type</th>\n",
       "      <th>sum</th>\n",
       "      <th>type_description</th>\n",
       "      <th>code_description</th>\n",
       "    </tr>\n",
       "  </thead>\n",
       "  <tbody>\n",
       "    <tr>\n",
       "      <th>0</th>\n",
       "      <td>96372458</td>\n",
       "      <td>421 06:33:15</td>\n",
       "      <td>6011</td>\n",
       "      <td>2010</td>\n",
       "      <td>-561478.94</td>\n",
       "      <td>Выдача наличных в АТМ</td>\n",
       "      <td>Финансовые институты — снятие наличности автом...</td>\n",
       "    </tr>\n",
       "    <tr>\n",
       "      <th>1</th>\n",
       "      <td>21717441</td>\n",
       "      <td>55 13:38:47</td>\n",
       "      <td>6011</td>\n",
       "      <td>2010</td>\n",
       "      <td>-44918.32</td>\n",
       "      <td>Выдача наличных в АТМ</td>\n",
       "      <td>Финансовые институты — снятие наличности автом...</td>\n",
       "    </tr>\n",
       "    <tr>\n",
       "      <th>2</th>\n",
       "      <td>14331004</td>\n",
       "      <td>263 12:57:08</td>\n",
       "      <td>6011</td>\n",
       "      <td>2010</td>\n",
       "      <td>-3368873.66</td>\n",
       "      <td>Выдача наличных в АТМ</td>\n",
       "      <td>Финансовые институты — снятие наличности автом...</td>\n",
       "    </tr>\n",
       "    <tr>\n",
       "      <th>3</th>\n",
       "      <td>2444292</td>\n",
       "      <td>355 09:47:45</td>\n",
       "      <td>6011</td>\n",
       "      <td>2010</td>\n",
       "      <td>-65131.56</td>\n",
       "      <td>Выдача наличных в АТМ</td>\n",
       "      <td>Финансовые институты — снятие наличности автом...</td>\n",
       "    </tr>\n",
       "    <tr>\n",
       "      <th>4</th>\n",
       "      <td>2132533</td>\n",
       "      <td>184 20:09:07</td>\n",
       "      <td>6011</td>\n",
       "      <td>2010</td>\n",
       "      <td>-224591.58</td>\n",
       "      <td>Выдача наличных в АТМ</td>\n",
       "      <td>Финансовые институты — снятие наличности автом...</td>\n",
       "    </tr>\n",
       "    <tr>\n",
       "      <th>...</th>\n",
       "      <td>...</td>\n",
       "      <td>...</td>\n",
       "      <td>...</td>\n",
       "      <td>...</td>\n",
       "      <td>...</td>\n",
       "      <td>...</td>\n",
       "      <td>...</td>\n",
       "    </tr>\n",
       "    <tr>\n",
       "      <th>129993</th>\n",
       "      <td>51907756</td>\n",
       "      <td>136 00:00:00</td>\n",
       "      <td>4131</td>\n",
       "      <td>1200</td>\n",
       "      <td>-146433.71</td>\n",
       "      <td>Покупка. Зарубеж.</td>\n",
       "      <td>Автобусные линии</td>\n",
       "    </tr>\n",
       "    <tr>\n",
       "      <th>129994</th>\n",
       "      <td>61978280</td>\n",
       "      <td>401 00:00:00</td>\n",
       "      <td>5169</td>\n",
       "      <td>1200</td>\n",
       "      <td>-271194.78</td>\n",
       "      <td>Покупка. Зарубеж.</td>\n",
       "      <td>Химикалии и смежные вещества, не классифициров...</td>\n",
       "    </tr>\n",
       "    <tr>\n",
       "      <th>129995</th>\n",
       "      <td>97803699</td>\n",
       "      <td>371 19:47:00</td>\n",
       "      <td>6513</td>\n",
       "      <td>1210</td>\n",
       "      <td>-60792.00</td>\n",
       "      <td>Покупка. POS  Зарубеж.</td>\n",
       "      <td>Агенты и менеджеры по аренде недвижимости</td>\n",
       "    </tr>\n",
       "    <tr>\n",
       "      <th>129996</th>\n",
       "      <td>63953233</td>\n",
       "      <td>15 00:00:00</td>\n",
       "      <td>4411</td>\n",
       "      <td>1210</td>\n",
       "      <td>-77535.30</td>\n",
       "      <td>Покупка. POS  Зарубеж.</td>\n",
       "      <td>Круизные линии</td>\n",
       "    </tr>\n",
       "    <tr>\n",
       "      <th>129997</th>\n",
       "      <td>31009144</td>\n",
       "      <td>81 17:32:60</td>\n",
       "      <td>4411</td>\n",
       "      <td>1210</td>\n",
       "      <td>-904166.84</td>\n",
       "      <td>Покупка. POS  Зарубеж.</td>\n",
       "      <td>Круизные линии</td>\n",
       "    </tr>\n",
       "  </tbody>\n",
       "</table>\n",
       "<p>129876 rows × 7 columns</p>\n",
       "</div>"
      ],
      "text/plain": [
       "        client_id      datetime  code  type         sum  \\\n",
       "0        96372458  421 06:33:15  6011  2010  -561478.94   \n",
       "1        21717441   55 13:38:47  6011  2010   -44918.32   \n",
       "2        14331004  263 12:57:08  6011  2010 -3368873.66   \n",
       "3         2444292  355 09:47:45  6011  2010   -65131.56   \n",
       "4         2132533  184 20:09:07  6011  2010  -224591.58   \n",
       "...           ...           ...   ...   ...         ...   \n",
       "129993   51907756  136 00:00:00  4131  1200  -146433.71   \n",
       "129994   61978280  401 00:00:00  5169  1200  -271194.78   \n",
       "129995   97803699  371 19:47:00  6513  1210   -60792.00   \n",
       "129996   63953233   15 00:00:00  4411  1210   -77535.30   \n",
       "129997   31009144   81 17:32:60  4411  1210  -904166.84   \n",
       "\n",
       "              type_description  \\\n",
       "0        Выдача наличных в АТМ   \n",
       "1        Выдача наличных в АТМ   \n",
       "2        Выдача наличных в АТМ   \n",
       "3        Выдача наличных в АТМ   \n",
       "4        Выдача наличных в АТМ   \n",
       "...                        ...   \n",
       "129993      Покупка. Зарубеж.    \n",
       "129994      Покупка. Зарубеж.    \n",
       "129995  Покупка. POS  Зарубеж.   \n",
       "129996  Покупка. POS  Зарубеж.   \n",
       "129997  Покупка. POS  Зарубеж.   \n",
       "\n",
       "                                         code_description  \n",
       "0       Финансовые институты — снятие наличности автом...  \n",
       "1       Финансовые институты — снятие наличности автом...  \n",
       "2       Финансовые институты — снятие наличности автом...  \n",
       "3       Финансовые институты — снятие наличности автом...  \n",
       "4       Финансовые институты — снятие наличности автом...  \n",
       "...                                                   ...  \n",
       "129993                                   Автобусные линии  \n",
       "129994  Химикалии и смежные вещества, не классифициров...  \n",
       "129995          Агенты и менеджеры по аренде недвижимости  \n",
       "129996                                     Круизные линии  \n",
       "129997                                     Круизные линии  \n",
       "\n",
       "[129876 rows x 7 columns]"
      ]
     },
     "execution_count": 15,
     "metadata": {},
     "output_type": "execute_result"
    }
   ],
   "source": [
    "df = df[df.type_description!='н/д']\n",
    "df"
   ]
  },
  {
   "cell_type": "code",
   "execution_count": 16,
   "id": "19025bf7",
   "metadata": {},
   "outputs": [],
   "source": [
    "df['time'] = df['datetime'].apply(lambda x: int(x.split().pop(1)[0:2]))"
   ]
  },
  {
   "cell_type": "code",
   "execution_count": 17,
   "id": "dcc986dc",
   "metadata": {},
   "outputs": [
    {
     "data": {
      "text/html": [
       "<div>\n",
       "<style scoped>\n",
       "    .dataframe tbody tr th:only-of-type {\n",
       "        vertical-align: middle;\n",
       "    }\n",
       "\n",
       "    .dataframe tbody tr th {\n",
       "        vertical-align: top;\n",
       "    }\n",
       "\n",
       "    .dataframe thead th {\n",
       "        text-align: right;\n",
       "    }\n",
       "</style>\n",
       "<table border=\"1\" class=\"dataframe\">\n",
       "  <thead>\n",
       "    <tr style=\"text-align: right;\">\n",
       "      <th></th>\n",
       "      <th>client_id</th>\n",
       "      <th>datetime</th>\n",
       "      <th>code</th>\n",
       "      <th>type</th>\n",
       "      <th>sum</th>\n",
       "      <th>type_description</th>\n",
       "      <th>code_description</th>\n",
       "      <th>time</th>\n",
       "    </tr>\n",
       "  </thead>\n",
       "  <tbody>\n",
       "    <tr>\n",
       "      <th>0</th>\n",
       "      <td>96372458</td>\n",
       "      <td>421 06:33:15</td>\n",
       "      <td>6011</td>\n",
       "      <td>2010</td>\n",
       "      <td>-561478.94</td>\n",
       "      <td>Выдача наличных в АТМ</td>\n",
       "      <td>Финансовые институты — снятие наличности автом...</td>\n",
       "      <td>6</td>\n",
       "    </tr>\n",
       "    <tr>\n",
       "      <th>1</th>\n",
       "      <td>21717441</td>\n",
       "      <td>55 13:38:47</td>\n",
       "      <td>6011</td>\n",
       "      <td>2010</td>\n",
       "      <td>-44918.32</td>\n",
       "      <td>Выдача наличных в АТМ</td>\n",
       "      <td>Финансовые институты — снятие наличности автом...</td>\n",
       "      <td>13</td>\n",
       "    </tr>\n",
       "    <tr>\n",
       "      <th>2</th>\n",
       "      <td>14331004</td>\n",
       "      <td>263 12:57:08</td>\n",
       "      <td>6011</td>\n",
       "      <td>2010</td>\n",
       "      <td>-3368873.66</td>\n",
       "      <td>Выдача наличных в АТМ</td>\n",
       "      <td>Финансовые институты — снятие наличности автом...</td>\n",
       "      <td>12</td>\n",
       "    </tr>\n",
       "    <tr>\n",
       "      <th>3</th>\n",
       "      <td>2444292</td>\n",
       "      <td>355 09:47:45</td>\n",
       "      <td>6011</td>\n",
       "      <td>2010</td>\n",
       "      <td>-65131.56</td>\n",
       "      <td>Выдача наличных в АТМ</td>\n",
       "      <td>Финансовые институты — снятие наличности автом...</td>\n",
       "      <td>9</td>\n",
       "    </tr>\n",
       "    <tr>\n",
       "      <th>4</th>\n",
       "      <td>2132533</td>\n",
       "      <td>184 20:09:07</td>\n",
       "      <td>6011</td>\n",
       "      <td>2010</td>\n",
       "      <td>-224591.58</td>\n",
       "      <td>Выдача наличных в АТМ</td>\n",
       "      <td>Финансовые институты — снятие наличности автом...</td>\n",
       "      <td>20</td>\n",
       "    </tr>\n",
       "    <tr>\n",
       "      <th>...</th>\n",
       "      <td>...</td>\n",
       "      <td>...</td>\n",
       "      <td>...</td>\n",
       "      <td>...</td>\n",
       "      <td>...</td>\n",
       "      <td>...</td>\n",
       "      <td>...</td>\n",
       "      <td>...</td>\n",
       "    </tr>\n",
       "    <tr>\n",
       "      <th>129993</th>\n",
       "      <td>51907756</td>\n",
       "      <td>136 00:00:00</td>\n",
       "      <td>4131</td>\n",
       "      <td>1200</td>\n",
       "      <td>-146433.71</td>\n",
       "      <td>Покупка. Зарубеж.</td>\n",
       "      <td>Автобусные линии</td>\n",
       "      <td>0</td>\n",
       "    </tr>\n",
       "    <tr>\n",
       "      <th>129994</th>\n",
       "      <td>61978280</td>\n",
       "      <td>401 00:00:00</td>\n",
       "      <td>5169</td>\n",
       "      <td>1200</td>\n",
       "      <td>-271194.78</td>\n",
       "      <td>Покупка. Зарубеж.</td>\n",
       "      <td>Химикалии и смежные вещества, не классифициров...</td>\n",
       "      <td>0</td>\n",
       "    </tr>\n",
       "    <tr>\n",
       "      <th>129995</th>\n",
       "      <td>97803699</td>\n",
       "      <td>371 19:47:00</td>\n",
       "      <td>6513</td>\n",
       "      <td>1210</td>\n",
       "      <td>-60792.00</td>\n",
       "      <td>Покупка. POS  Зарубеж.</td>\n",
       "      <td>Агенты и менеджеры по аренде недвижимости</td>\n",
       "      <td>19</td>\n",
       "    </tr>\n",
       "    <tr>\n",
       "      <th>129996</th>\n",
       "      <td>63953233</td>\n",
       "      <td>15 00:00:00</td>\n",
       "      <td>4411</td>\n",
       "      <td>1210</td>\n",
       "      <td>-77535.30</td>\n",
       "      <td>Покупка. POS  Зарубеж.</td>\n",
       "      <td>Круизные линии</td>\n",
       "      <td>0</td>\n",
       "    </tr>\n",
       "    <tr>\n",
       "      <th>129997</th>\n",
       "      <td>31009144</td>\n",
       "      <td>81 17:32:60</td>\n",
       "      <td>4411</td>\n",
       "      <td>1210</td>\n",
       "      <td>-904166.84</td>\n",
       "      <td>Покупка. POS  Зарубеж.</td>\n",
       "      <td>Круизные линии</td>\n",
       "      <td>17</td>\n",
       "    </tr>\n",
       "  </tbody>\n",
       "</table>\n",
       "<p>129876 rows × 8 columns</p>\n",
       "</div>"
      ],
      "text/plain": [
       "        client_id      datetime  code  type         sum  \\\n",
       "0        96372458  421 06:33:15  6011  2010  -561478.94   \n",
       "1        21717441   55 13:38:47  6011  2010   -44918.32   \n",
       "2        14331004  263 12:57:08  6011  2010 -3368873.66   \n",
       "3         2444292  355 09:47:45  6011  2010   -65131.56   \n",
       "4         2132533  184 20:09:07  6011  2010  -224591.58   \n",
       "...           ...           ...   ...   ...         ...   \n",
       "129993   51907756  136 00:00:00  4131  1200  -146433.71   \n",
       "129994   61978280  401 00:00:00  5169  1200  -271194.78   \n",
       "129995   97803699  371 19:47:00  6513  1210   -60792.00   \n",
       "129996   63953233   15 00:00:00  4411  1210   -77535.30   \n",
       "129997   31009144   81 17:32:60  4411  1210  -904166.84   \n",
       "\n",
       "              type_description  \\\n",
       "0        Выдача наличных в АТМ   \n",
       "1        Выдача наличных в АТМ   \n",
       "2        Выдача наличных в АТМ   \n",
       "3        Выдача наличных в АТМ   \n",
       "4        Выдача наличных в АТМ   \n",
       "...                        ...   \n",
       "129993      Покупка. Зарубеж.    \n",
       "129994      Покупка. Зарубеж.    \n",
       "129995  Покупка. POS  Зарубеж.   \n",
       "129996  Покупка. POS  Зарубеж.   \n",
       "129997  Покупка. POS  Зарубеж.   \n",
       "\n",
       "                                         code_description  time  \n",
       "0       Финансовые институты — снятие наличности автом...     6  \n",
       "1       Финансовые институты — снятие наличности автом...    13  \n",
       "2       Финансовые институты — снятие наличности автом...    12  \n",
       "3       Финансовые институты — снятие наличности автом...     9  \n",
       "4       Финансовые институты — снятие наличности автом...    20  \n",
       "...                                                   ...   ...  \n",
       "129993                                   Автобусные линии     0  \n",
       "129994  Химикалии и смежные вещества, не классифициров...     0  \n",
       "129995          Агенты и менеджеры по аренде недвижимости    19  \n",
       "129996                                     Круизные линии     0  \n",
       "129997                                     Круизные линии    17  \n",
       "\n",
       "[129876 rows x 8 columns]"
      ]
     },
     "execution_count": 17,
     "metadata": {},
     "output_type": "execute_result"
    }
   ],
   "source": [
    "df"
   ]
  },
  {
   "cell_type": "code",
   "execution_count": 18,
   "id": "32d53ca7",
   "metadata": {},
   "outputs": [],
   "source": [
    "df['day'] = df['datetime'].apply(lambda x: int(x.split().pop(0)))"
   ]
  },
  {
   "cell_type": "code",
   "execution_count": null,
   "id": "26f7078a",
   "metadata": {},
   "outputs": [],
   "source": []
  },
  {
   "cell_type": "code",
   "execution_count": null,
   "id": "b96bd346",
   "metadata": {},
   "outputs": [],
   "source": []
  },
  {
   "cell_type": "code",
   "execution_count": null,
   "id": "13a8896f",
   "metadata": {},
   "outputs": [],
   "source": []
  },
  {
   "cell_type": "code",
   "execution_count": 19,
   "id": "ef67631b",
   "metadata": {},
   "outputs": [
    {
     "data": {
      "text/html": [
       "<div>\n",
       "<style scoped>\n",
       "    .dataframe tbody tr th:only-of-type {\n",
       "        vertical-align: middle;\n",
       "    }\n",
       "\n",
       "    .dataframe tbody tr th {\n",
       "        vertical-align: top;\n",
       "    }\n",
       "\n",
       "    .dataframe thead th {\n",
       "        text-align: right;\n",
       "    }\n",
       "</style>\n",
       "<table border=\"1\" class=\"dataframe\">\n",
       "  <thead>\n",
       "    <tr style=\"text-align: right;\">\n",
       "      <th></th>\n",
       "      <th>client_id</th>\n",
       "      <th>datetime</th>\n",
       "      <th>code</th>\n",
       "      <th>type</th>\n",
       "      <th>sum</th>\n",
       "      <th>type_description</th>\n",
       "      <th>code_description</th>\n",
       "      <th>time</th>\n",
       "      <th>day</th>\n",
       "    </tr>\n",
       "  </thead>\n",
       "  <tbody>\n",
       "    <tr>\n",
       "      <th>0</th>\n",
       "      <td>96372458</td>\n",
       "      <td>421 06:33:15</td>\n",
       "      <td>6011</td>\n",
       "      <td>2010</td>\n",
       "      <td>-561478.94</td>\n",
       "      <td>Выдача наличных в АТМ</td>\n",
       "      <td>Финансовые институты — снятие наличности автом...</td>\n",
       "      <td>6</td>\n",
       "      <td>421</td>\n",
       "    </tr>\n",
       "    <tr>\n",
       "      <th>1</th>\n",
       "      <td>21717441</td>\n",
       "      <td>55 13:38:47</td>\n",
       "      <td>6011</td>\n",
       "      <td>2010</td>\n",
       "      <td>-44918.32</td>\n",
       "      <td>Выдача наличных в АТМ</td>\n",
       "      <td>Финансовые институты — снятие наличности автом...</td>\n",
       "      <td>13</td>\n",
       "      <td>55</td>\n",
       "    </tr>\n",
       "    <tr>\n",
       "      <th>2</th>\n",
       "      <td>14331004</td>\n",
       "      <td>263 12:57:08</td>\n",
       "      <td>6011</td>\n",
       "      <td>2010</td>\n",
       "      <td>-3368873.66</td>\n",
       "      <td>Выдача наличных в АТМ</td>\n",
       "      <td>Финансовые институты — снятие наличности автом...</td>\n",
       "      <td>12</td>\n",
       "      <td>263</td>\n",
       "    </tr>\n",
       "    <tr>\n",
       "      <th>3</th>\n",
       "      <td>2444292</td>\n",
       "      <td>355 09:47:45</td>\n",
       "      <td>6011</td>\n",
       "      <td>2010</td>\n",
       "      <td>-65131.56</td>\n",
       "      <td>Выдача наличных в АТМ</td>\n",
       "      <td>Финансовые институты — снятие наличности автом...</td>\n",
       "      <td>9</td>\n",
       "      <td>355</td>\n",
       "    </tr>\n",
       "    <tr>\n",
       "      <th>4</th>\n",
       "      <td>2132533</td>\n",
       "      <td>184 20:09:07</td>\n",
       "      <td>6011</td>\n",
       "      <td>2010</td>\n",
       "      <td>-224591.58</td>\n",
       "      <td>Выдача наличных в АТМ</td>\n",
       "      <td>Финансовые институты — снятие наличности автом...</td>\n",
       "      <td>20</td>\n",
       "      <td>184</td>\n",
       "    </tr>\n",
       "    <tr>\n",
       "      <th>...</th>\n",
       "      <td>...</td>\n",
       "      <td>...</td>\n",
       "      <td>...</td>\n",
       "      <td>...</td>\n",
       "      <td>...</td>\n",
       "      <td>...</td>\n",
       "      <td>...</td>\n",
       "      <td>...</td>\n",
       "      <td>...</td>\n",
       "    </tr>\n",
       "    <tr>\n",
       "      <th>129993</th>\n",
       "      <td>51907756</td>\n",
       "      <td>136 00:00:00</td>\n",
       "      <td>4131</td>\n",
       "      <td>1200</td>\n",
       "      <td>-146433.71</td>\n",
       "      <td>Покупка. Зарубеж.</td>\n",
       "      <td>Автобусные линии</td>\n",
       "      <td>0</td>\n",
       "      <td>136</td>\n",
       "    </tr>\n",
       "    <tr>\n",
       "      <th>129994</th>\n",
       "      <td>61978280</td>\n",
       "      <td>401 00:00:00</td>\n",
       "      <td>5169</td>\n",
       "      <td>1200</td>\n",
       "      <td>-271194.78</td>\n",
       "      <td>Покупка. Зарубеж.</td>\n",
       "      <td>Химикалии и смежные вещества, не классифициров...</td>\n",
       "      <td>0</td>\n",
       "      <td>401</td>\n",
       "    </tr>\n",
       "    <tr>\n",
       "      <th>129995</th>\n",
       "      <td>97803699</td>\n",
       "      <td>371 19:47:00</td>\n",
       "      <td>6513</td>\n",
       "      <td>1210</td>\n",
       "      <td>-60792.00</td>\n",
       "      <td>Покупка. POS  Зарубеж.</td>\n",
       "      <td>Агенты и менеджеры по аренде недвижимости</td>\n",
       "      <td>19</td>\n",
       "      <td>371</td>\n",
       "    </tr>\n",
       "    <tr>\n",
       "      <th>129996</th>\n",
       "      <td>63953233</td>\n",
       "      <td>15 00:00:00</td>\n",
       "      <td>4411</td>\n",
       "      <td>1210</td>\n",
       "      <td>-77535.30</td>\n",
       "      <td>Покупка. POS  Зарубеж.</td>\n",
       "      <td>Круизные линии</td>\n",
       "      <td>0</td>\n",
       "      <td>15</td>\n",
       "    </tr>\n",
       "    <tr>\n",
       "      <th>129997</th>\n",
       "      <td>31009144</td>\n",
       "      <td>81 17:32:60</td>\n",
       "      <td>4411</td>\n",
       "      <td>1210</td>\n",
       "      <td>-904166.84</td>\n",
       "      <td>Покупка. POS  Зарубеж.</td>\n",
       "      <td>Круизные линии</td>\n",
       "      <td>17</td>\n",
       "      <td>81</td>\n",
       "    </tr>\n",
       "  </tbody>\n",
       "</table>\n",
       "<p>129876 rows × 9 columns</p>\n",
       "</div>"
      ],
      "text/plain": [
       "        client_id      datetime  code  type         sum  \\\n",
       "0        96372458  421 06:33:15  6011  2010  -561478.94   \n",
       "1        21717441   55 13:38:47  6011  2010   -44918.32   \n",
       "2        14331004  263 12:57:08  6011  2010 -3368873.66   \n",
       "3         2444292  355 09:47:45  6011  2010   -65131.56   \n",
       "4         2132533  184 20:09:07  6011  2010  -224591.58   \n",
       "...           ...           ...   ...   ...         ...   \n",
       "129993   51907756  136 00:00:00  4131  1200  -146433.71   \n",
       "129994   61978280  401 00:00:00  5169  1200  -271194.78   \n",
       "129995   97803699  371 19:47:00  6513  1210   -60792.00   \n",
       "129996   63953233   15 00:00:00  4411  1210   -77535.30   \n",
       "129997   31009144   81 17:32:60  4411  1210  -904166.84   \n",
       "\n",
       "              type_description  \\\n",
       "0        Выдача наличных в АТМ   \n",
       "1        Выдача наличных в АТМ   \n",
       "2        Выдача наличных в АТМ   \n",
       "3        Выдача наличных в АТМ   \n",
       "4        Выдача наличных в АТМ   \n",
       "...                        ...   \n",
       "129993      Покупка. Зарубеж.    \n",
       "129994      Покупка. Зарубеж.    \n",
       "129995  Покупка. POS  Зарубеж.   \n",
       "129996  Покупка. POS  Зарубеж.   \n",
       "129997  Покупка. POS  Зарубеж.   \n",
       "\n",
       "                                         code_description  time  day  \n",
       "0       Финансовые институты — снятие наличности автом...     6  421  \n",
       "1       Финансовые институты — снятие наличности автом...    13   55  \n",
       "2       Финансовые институты — снятие наличности автом...    12  263  \n",
       "3       Финансовые институты — снятие наличности автом...     9  355  \n",
       "4       Финансовые институты — снятие наличности автом...    20  184  \n",
       "...                                                   ...   ...  ...  \n",
       "129993                                   Автобусные линии     0  136  \n",
       "129994  Химикалии и смежные вещества, не классифициров...     0  401  \n",
       "129995          Агенты и менеджеры по аренде недвижимости    19  371  \n",
       "129996                                     Круизные линии     0   15  \n",
       "129997                                     Круизные линии    17   81  \n",
       "\n",
       "[129876 rows x 9 columns]"
      ]
     },
     "execution_count": 19,
     "metadata": {},
     "output_type": "execute_result"
    }
   ],
   "source": [
    "df"
   ]
  },
  {
   "cell_type": "code",
   "execution_count": null,
   "id": "ad95b267",
   "metadata": {},
   "outputs": [],
   "source": []
  },
  {
   "cell_type": "code",
   "execution_count": null,
   "id": "ece86723",
   "metadata": {},
   "outputs": [],
   "source": []
  },
  {
   "cell_type": "code",
   "execution_count": 20,
   "id": "8e05cc5f",
   "metadata": {
    "scrolled": false
   },
   "outputs": [],
   "source": [
    "df = df[['client_id','sum','day']].groupby('client_id').mean()"
   ]
  },
  {
   "cell_type": "code",
   "execution_count": 21,
   "id": "e16d139a",
   "metadata": {},
   "outputs": [
    {
     "data": {
      "text/html": [
       "<div>\n",
       "<style scoped>\n",
       "    .dataframe tbody tr th:only-of-type {\n",
       "        vertical-align: middle;\n",
       "    }\n",
       "\n",
       "    .dataframe tbody tr th {\n",
       "        vertical-align: top;\n",
       "    }\n",
       "\n",
       "    .dataframe thead th {\n",
       "        text-align: right;\n",
       "    }\n",
       "</style>\n",
       "<table border=\"1\" class=\"dataframe\">\n",
       "  <thead>\n",
       "    <tr style=\"text-align: right;\">\n",
       "      <th></th>\n",
       "      <th>client_id</th>\n",
       "      <th>sum</th>\n",
       "      <th>day</th>\n",
       "      <th>target</th>\n",
       "    </tr>\n",
       "  </thead>\n",
       "  <tbody>\n",
       "    <tr>\n",
       "      <th>0</th>\n",
       "      <td>28753</td>\n",
       "      <td>-199215.41</td>\n",
       "      <td>263.38</td>\n",
       "      <td>0</td>\n",
       "    </tr>\n",
       "    <tr>\n",
       "      <th>1</th>\n",
       "      <td>760558</td>\n",
       "      <td>-83962.31</td>\n",
       "      <td>350.11</td>\n",
       "      <td>0</td>\n",
       "    </tr>\n",
       "    <tr>\n",
       "      <th>2</th>\n",
       "      <td>3258145</td>\n",
       "      <td>-12581.10</td>\n",
       "      <td>261.00</td>\n",
       "      <td>0</td>\n",
       "    </tr>\n",
       "    <tr>\n",
       "      <th>3</th>\n",
       "      <td>5741996</td>\n",
       "      <td>-35238.60</td>\n",
       "      <td>206.00</td>\n",
       "      <td>0</td>\n",
       "    </tr>\n",
       "    <tr>\n",
       "      <th>4</th>\n",
       "      <td>6506523</td>\n",
       "      <td>49731.20</td>\n",
       "      <td>288.51</td>\n",
       "      <td>0</td>\n",
       "    </tr>\n",
       "    <tr>\n",
       "      <th>...</th>\n",
       "      <td>...</td>\n",
       "      <td>...</td>\n",
       "      <td>...</td>\n",
       "      <td>...</td>\n",
       "    </tr>\n",
       "    <tr>\n",
       "      <th>95</th>\n",
       "      <td>95213230</td>\n",
       "      <td>6302.73</td>\n",
       "      <td>229.00</td>\n",
       "      <td>0</td>\n",
       "    </tr>\n",
       "    <tr>\n",
       "      <th>96</th>\n",
       "      <td>96750247</td>\n",
       "      <td>-25718.57</td>\n",
       "      <td>276.36</td>\n",
       "      <td>0</td>\n",
       "    </tr>\n",
       "    <tr>\n",
       "      <th>97</th>\n",
       "      <td>97886931</td>\n",
       "      <td>-87774.33</td>\n",
       "      <td>276.07</td>\n",
       "      <td>1</td>\n",
       "    </tr>\n",
       "    <tr>\n",
       "      <th>98</th>\n",
       "      <td>98165114</td>\n",
       "      <td>5688.99</td>\n",
       "      <td>262.70</td>\n",
       "      <td>0</td>\n",
       "    </tr>\n",
       "    <tr>\n",
       "      <th>99</th>\n",
       "      <td>98882512</td>\n",
       "      <td>24440.87</td>\n",
       "      <td>272.38</td>\n",
       "      <td>0</td>\n",
       "    </tr>\n",
       "  </tbody>\n",
       "</table>\n",
       "<p>100 rows × 4 columns</p>\n",
       "</div>"
      ],
      "text/plain": [
       "    client_id        sum    day  target\n",
       "0       28753 -199215.41 263.38       0\n",
       "1      760558  -83962.31 350.11       0\n",
       "2     3258145  -12581.10 261.00       0\n",
       "3     5741996  -35238.60 206.00       0\n",
       "4     6506523   49731.20 288.51       0\n",
       "..        ...        ...    ...     ...\n",
       "95   95213230    6302.73 229.00       0\n",
       "96   96750247  -25718.57 276.36       0\n",
       "97   97886931  -87774.33 276.07       1\n",
       "98   98165114    5688.99 262.70       0\n",
       "99   98882512   24440.87 272.38       0\n",
       "\n",
       "[100 rows x 4 columns]"
      ]
     },
     "execution_count": 21,
     "metadata": {},
     "output_type": "execute_result"
    }
   ],
   "source": [
    "df_train = pd.read_csv('train_set.csv',delimiter=';')[0:100]\n",
    "df = pd.merge(df, df_train, on='client_id')\n",
    "df"
   ]
  },
  {
   "cell_type": "code",
   "execution_count": 22,
   "id": "708d5f98",
   "metadata": {},
   "outputs": [],
   "source": [
    "from sklearn.model_selection import train_test_split\n",
    "X_train, X_test, y_train, y_test = train_test_split(df[['sum','day']], df.target, test_size = 0.2,random_state = 63)"
   ]
  },
  {
   "cell_type": "code",
   "execution_count": 23,
   "id": "b8e10daf",
   "metadata": {},
   "outputs": [
    {
     "data": {
      "text/html": [
       "<div>\n",
       "<style scoped>\n",
       "    .dataframe tbody tr th:only-of-type {\n",
       "        vertical-align: middle;\n",
       "    }\n",
       "\n",
       "    .dataframe tbody tr th {\n",
       "        vertical-align: top;\n",
       "    }\n",
       "\n",
       "    .dataframe thead th {\n",
       "        text-align: right;\n",
       "    }\n",
       "</style>\n",
       "<table border=\"1\" class=\"dataframe\">\n",
       "  <thead>\n",
       "    <tr style=\"text-align: right;\">\n",
       "      <th></th>\n",
       "      <th>sum</th>\n",
       "      <th>day</th>\n",
       "    </tr>\n",
       "  </thead>\n",
       "  <tbody>\n",
       "    <tr>\n",
       "      <th>64</th>\n",
       "      <td>-174339.21</td>\n",
       "      <td>255.75</td>\n",
       "    </tr>\n",
       "    <tr>\n",
       "      <th>59</th>\n",
       "      <td>143893.64</td>\n",
       "      <td>221.43</td>\n",
       "    </tr>\n",
       "    <tr>\n",
       "      <th>63</th>\n",
       "      <td>-18163.84</td>\n",
       "      <td>220.29</td>\n",
       "    </tr>\n",
       "    <tr>\n",
       "      <th>2</th>\n",
       "      <td>-12581.10</td>\n",
       "      <td>261.00</td>\n",
       "    </tr>\n",
       "    <tr>\n",
       "      <th>80</th>\n",
       "      <td>-67938.96</td>\n",
       "      <td>379.00</td>\n",
       "    </tr>\n",
       "    <tr>\n",
       "      <th>20</th>\n",
       "      <td>-4693.47</td>\n",
       "      <td>364.22</td>\n",
       "    </tr>\n",
       "    <tr>\n",
       "      <th>18</th>\n",
       "      <td>-69174.21</td>\n",
       "      <td>166.00</td>\n",
       "    </tr>\n",
       "    <tr>\n",
       "      <th>48</th>\n",
       "      <td>-377785.49</td>\n",
       "      <td>142.00</td>\n",
       "    </tr>\n",
       "    <tr>\n",
       "      <th>72</th>\n",
       "      <td>-107939.55</td>\n",
       "      <td>212.29</td>\n",
       "    </tr>\n",
       "    <tr>\n",
       "      <th>51</th>\n",
       "      <td>-14696.78</td>\n",
       "      <td>272.42</td>\n",
       "    </tr>\n",
       "    <tr>\n",
       "      <th>89</th>\n",
       "      <td>-22459.16</td>\n",
       "      <td>451.00</td>\n",
       "    </tr>\n",
       "    <tr>\n",
       "      <th>75</th>\n",
       "      <td>-4149.70</td>\n",
       "      <td>366.00</td>\n",
       "    </tr>\n",
       "    <tr>\n",
       "      <th>77</th>\n",
       "      <td>-52916.47</td>\n",
       "      <td>257.90</td>\n",
       "    </tr>\n",
       "    <tr>\n",
       "      <th>33</th>\n",
       "      <td>-40652.65</td>\n",
       "      <td>283.38</td>\n",
       "    </tr>\n",
       "    <tr>\n",
       "      <th>66</th>\n",
       "      <td>-41620.77</td>\n",
       "      <td>262.40</td>\n",
       "    </tr>\n",
       "    <tr>\n",
       "      <th>31</th>\n",
       "      <td>-18397.60</td>\n",
       "      <td>207.80</td>\n",
       "    </tr>\n",
       "    <tr>\n",
       "      <th>12</th>\n",
       "      <td>-8422.19</td>\n",
       "      <td>138.00</td>\n",
       "    </tr>\n",
       "    <tr>\n",
       "      <th>94</th>\n",
       "      <td>-28045.02</td>\n",
       "      <td>214.93</td>\n",
       "    </tr>\n",
       "    <tr>\n",
       "      <th>92</th>\n",
       "      <td>-5169.69</td>\n",
       "      <td>223.79</td>\n",
       "    </tr>\n",
       "    <tr>\n",
       "      <th>55</th>\n",
       "      <td>-21313.74</td>\n",
       "      <td>252.00</td>\n",
       "    </tr>\n",
       "  </tbody>\n",
       "</table>\n",
       "</div>"
      ],
      "text/plain": [
       "          sum    day\n",
       "64 -174339.21 255.75\n",
       "59  143893.64 221.43\n",
       "63  -18163.84 220.29\n",
       "2   -12581.10 261.00\n",
       "80  -67938.96 379.00\n",
       "20   -4693.47 364.22\n",
       "18  -69174.21 166.00\n",
       "48 -377785.49 142.00\n",
       "72 -107939.55 212.29\n",
       "51  -14696.78 272.42\n",
       "89  -22459.16 451.00\n",
       "75   -4149.70 366.00\n",
       "77  -52916.47 257.90\n",
       "33  -40652.65 283.38\n",
       "66  -41620.77 262.40\n",
       "31  -18397.60 207.80\n",
       "12   -8422.19 138.00\n",
       "94  -28045.02 214.93\n",
       "92   -5169.69 223.79\n",
       "55  -21313.74 252.00"
      ]
     },
     "execution_count": 23,
     "metadata": {},
     "output_type": "execute_result"
    }
   ],
   "source": [
    "X_test"
   ]
  },
  {
   "cell_type": "markdown",
   "id": "b3e3b038",
   "metadata": {},
   "source": [
    "# task 4"
   ]
  },
  {
   "cell_type": "code",
   "execution_count": 24,
   "id": "c3ffcc24",
   "metadata": {},
   "outputs": [
    {
     "data": {
      "text/plain": [
       "DecisionTreeClassifier()"
      ]
     },
     "execution_count": 24,
     "metadata": {},
     "output_type": "execute_result"
    }
   ],
   "source": [
    "from sklearn.tree import DecisionTreeClassifier\n",
    "model = DecisionTreeClassifier()\n",
    "model.fit(X_train, y_train)"
   ]
  },
  {
   "cell_type": "code",
   "execution_count": 25,
   "id": "01ccfbb6",
   "metadata": {},
   "outputs": [
    {
     "data": {
      "text/plain": [
       "[Text(179.35714285714286, 210.645, 'day <= 200.0\\ngini = 0.41\\nsamples = 80\\nvalue = [57, 23]'),\n",
       " Text(163.4142857142857, 197.055, 'gini = 0.0\\nsamples = 14\\nvalue = [14, 0]'),\n",
       " Text(195.3, 197.055, 'sum <= -18676.02\\ngini = 0.454\\nsamples = 66\\nvalue = [43, 23]'),\n",
       " Text(119.57142857142857, 183.465, 'sum <= -21229.867\\ngini = 0.5\\nsamples = 35\\nvalue = [18, 17]'),\n",
       " Text(103.62857142857143, 169.875, 'sum <= -183183.914\\ngini = 0.492\\nsamples = 32\\nvalue = [18, 14]'),\n",
       " Text(87.68571428571428, 156.285, 'gini = 0.0\\nsamples = 2\\nvalue = [2, 0]'),\n",
       " Text(119.57142857142857, 156.285, 'sum <= -69349.387\\ngini = 0.498\\nsamples = 30\\nvalue = [16, 14]'),\n",
       " Text(63.77142857142857, 142.695, 'day <= 244.715\\ngini = 0.444\\nsamples = 9\\nvalue = [3, 6]'),\n",
       " Text(31.885714285714286, 129.10500000000002, 'day <= 205.25\\ngini = 0.444\\nsamples = 3\\nvalue = [2, 1]'),\n",
       " Text(15.942857142857143, 115.515, 'gini = 0.0\\nsamples = 1\\nvalue = [0, 1]'),\n",
       " Text(47.82857142857143, 115.515, 'gini = 0.0\\nsamples = 2\\nvalue = [2, 0]'),\n",
       " Text(95.65714285714286, 129.10500000000002, 'day <= 346.222\\ngini = 0.278\\nsamples = 6\\nvalue = [1, 5]'),\n",
       " Text(79.71428571428572, 115.515, 'gini = 0.0\\nsamples = 5\\nvalue = [0, 5]'),\n",
       " Text(111.6, 115.515, 'gini = 0.0\\nsamples = 1\\nvalue = [1, 0]'),\n",
       " Text(175.37142857142857, 142.695, 'day <= 386.875\\ngini = 0.472\\nsamples = 21\\nvalue = [13, 8]'),\n",
       " Text(159.42857142857144, 129.10500000000002, 'day <= 274.784\\ngini = 0.455\\nsamples = 20\\nvalue = [13, 7]'),\n",
       " Text(143.4857142857143, 115.515, 'sum <= -22311.966\\ngini = 0.492\\nsamples = 16\\nvalue = [9, 7]'),\n",
       " Text(127.54285714285714, 101.925, 'sum <= -26689.378\\ngini = 0.5\\nsamples = 14\\nvalue = [7, 7]'),\n",
       " Text(111.6, 88.33500000000001, 'day <= 213.864\\ngini = 0.486\\nsamples = 12\\nvalue = [7, 5]'),\n",
       " Text(95.65714285714286, 74.745, 'gini = 0.0\\nsamples = 2\\nvalue = [2, 0]'),\n",
       " Text(127.54285714285714, 74.745, 'day <= 220.292\\ngini = 0.5\\nsamples = 10\\nvalue = [5, 5]'),\n",
       " Text(111.6, 61.155, 'gini = 0.0\\nsamples = 2\\nvalue = [0, 2]'),\n",
       " Text(143.4857142857143, 61.155, 'day <= 264.103\\ngini = 0.469\\nsamples = 8\\nvalue = [5, 3]'),\n",
       " Text(127.54285714285714, 47.565, 'sum <= -49315.41\\ngini = 0.408\\nsamples = 7\\nvalue = [5, 2]'),\n",
       " Text(111.6, 33.974999999999994, 'day <= 224.23\\ngini = 0.5\\nsamples = 4\\nvalue = [2, 2]'),\n",
       " Text(95.65714285714286, 20.38499999999999, 'gini = 0.0\\nsamples = 1\\nvalue = [1, 0]'),\n",
       " Text(127.54285714285714, 20.38499999999999, 'sum <= -60655.527\\ngini = 0.444\\nsamples = 3\\nvalue = [1, 2]'),\n",
       " Text(111.6, 6.7949999999999875, 'gini = 0.0\\nsamples = 1\\nvalue = [1, 0]'),\n",
       " Text(143.4857142857143, 6.7949999999999875, 'gini = 0.0\\nsamples = 2\\nvalue = [0, 2]'),\n",
       " Text(143.4857142857143, 33.974999999999994, 'gini = 0.0\\nsamples = 3\\nvalue = [3, 0]'),\n",
       " Text(159.42857142857144, 47.565, 'gini = 0.0\\nsamples = 1\\nvalue = [0, 1]'),\n",
       " Text(143.4857142857143, 88.33500000000001, 'gini = 0.0\\nsamples = 2\\nvalue = [0, 2]'),\n",
       " Text(159.42857142857144, 101.925, 'gini = 0.0\\nsamples = 2\\nvalue = [2, 0]'),\n",
       " Text(175.37142857142857, 115.515, 'gini = 0.0\\nsamples = 4\\nvalue = [4, 0]'),\n",
       " Text(191.31428571428572, 129.10500000000002, 'gini = 0.0\\nsamples = 1\\nvalue = [0, 1]'),\n",
       " Text(135.5142857142857, 169.875, 'gini = 0.0\\nsamples = 3\\nvalue = [0, 3]'),\n",
       " Text(271.0285714285714, 183.465, 'day <= 215.707\\ngini = 0.312\\nsamples = 31\\nvalue = [25, 6]'),\n",
       " Text(255.0857142857143, 169.875, 'gini = 0.0\\nsamples = 1\\nvalue = [0, 1]'),\n",
       " Text(286.9714285714286, 169.875, 'day <= 375.125\\ngini = 0.278\\nsamples = 30\\nvalue = [25, 5]'),\n",
       " Text(271.0285714285714, 156.285, 'sum <= 36407.978\\ngini = 0.238\\nsamples = 29\\nvalue = [25, 4]'),\n",
       " Text(239.14285714285714, 142.695, 'day <= 264.6\\ngini = 0.147\\nsamples = 25\\nvalue = [23, 2]'),\n",
       " Text(223.2, 129.10500000000002, 'gini = 0.0\\nsamples = 15\\nvalue = [15, 0]'),\n",
       " Text(255.0857142857143, 129.10500000000002, 'day <= 268.6\\ngini = 0.32\\nsamples = 10\\nvalue = [8, 2]'),\n",
       " Text(239.14285714285714, 115.515, 'gini = 0.0\\nsamples = 1\\nvalue = [0, 1]'),\n",
       " Text(271.0285714285714, 115.515, 'sum <= -1531.846\\ngini = 0.198\\nsamples = 9\\nvalue = [8, 1]'),\n",
       " Text(255.0857142857143, 101.925, 'gini = 0.0\\nsamples = 6\\nvalue = [6, 0]'),\n",
       " Text(286.9714285714286, 101.925, 'sum <= 523.822\\ngini = 0.444\\nsamples = 3\\nvalue = [2, 1]'),\n",
       " Text(271.0285714285714, 88.33500000000001, 'gini = 0.0\\nsamples = 1\\nvalue = [0, 1]'),\n",
       " Text(302.9142857142857, 88.33500000000001, 'gini = 0.0\\nsamples = 2\\nvalue = [2, 0]'),\n",
       " Text(302.9142857142857, 142.695, 'day <= 273.421\\ngini = 0.5\\nsamples = 4\\nvalue = [2, 2]'),\n",
       " Text(286.9714285714286, 129.10500000000002, 'gini = 0.0\\nsamples = 2\\nvalue = [0, 2]'),\n",
       " Text(318.8571428571429, 129.10500000000002, 'gini = 0.0\\nsamples = 2\\nvalue = [2, 0]'),\n",
       " Text(302.9142857142857, 156.285, 'gini = 0.0\\nsamples = 1\\nvalue = [0, 1]')]"
      ]
     },
     "execution_count": 25,
     "metadata": {},
     "output_type": "execute_result"
    },
    {
     "data": {
      "image/png": "[encoded data removed]",
      "text/plain": [
       "<Figure size 432x288 with 1 Axes>"
      ]
     },
     "metadata": {
      "needs_background": "light"
     },
     "output_type": "display_data"
    }
   ],
   "source": [
    "from sklearn.tree import plot_tree \n",
    "%matplotlib inline\n",
    "\n",
    "plot_tree(model, feature_names = X_train.columns)"
   ]
  },
  {
   "cell_type": "code",
   "execution_count": 26,
   "id": "2cc2a4e4",
   "metadata": {},
   "outputs": [
    {
     "data": {
      "text/plain": [
       "array([1, 1, 0, 0, 0, 0, 0, 0, 0, 0, 1, 0, 1, 0, 0, 1, 0, 1, 0, 0],\n",
       "      dtype=int64)"
      ]
     },
     "execution_count": 26,
     "metadata": {},
     "output_type": "execute_result"
    }
   ],
   "source": [
    "model.predict(X_test)"
   ]
  },
  {
   "cell_type": "code",
   "execution_count": 27,
   "id": "36e5ee66",
   "metadata": {},
   "outputs": [
    {
     "data": {
      "text/plain": [
       "64    1\n",
       "59    0\n",
       "63    0\n",
       "2     0\n",
       "80    0\n",
       "20    0\n",
       "18    0\n",
       "48    1\n",
       "72    0\n",
       "51    1\n",
       "89    1\n",
       "75    0\n",
       "77    0\n",
       "33    0\n",
       "66    1\n",
       "31    0\n",
       "12    0\n",
       "94    1\n",
       "92    1\n",
       "55    0\n",
       "Name: target, dtype: int64"
      ]
     },
     "execution_count": 27,
     "metadata": {},
     "output_type": "execute_result"
    }
   ],
   "source": [
    "y_test"
   ]
  },
  {
   "cell_type": "code",
   "execution_count": 28,
   "id": "b8c12b9a",
   "metadata": {},
   "outputs": [
    {
     "data": {
      "text/plain": [
       "0.65"
      ]
     },
     "execution_count": 28,
     "metadata": {},
     "output_type": "execute_result"
    }
   ],
   "source": [
    "accuracy_score(y_test,model.predict(X_test))"
   ]
  },
  {
   "cell_type": "code",
   "execution_count": 29,
   "id": "34331c2b",
   "metadata": {},
   "outputs": [
    {
     "data": {
      "text/plain": [
       "RandomForestClassifier()"
      ]
     },
     "execution_count": 29,
     "metadata": {},
     "output_type": "execute_result"
    }
   ],
   "source": [
    "## random forest\n",
    "from sklearn.ensemble import RandomForestClassifier\n",
    "rf = RandomForestClassifier()\n",
    "rf.fit(X_train, y_train)"
   ]
  },
  {
   "cell_type": "code",
   "execution_count": 30,
   "id": "c2b1d09a",
   "metadata": {
    "scrolled": true
   },
   "outputs": [
    {
     "data": {
      "text/plain": [
       "array([0, 1, 0, 0, 1, 0, 0, 0, 0, 1, 1, 0, 1, 0, 1, 1, 0, 1, 0, 0],\n",
       "      dtype=int64)"
      ]
     },
     "execution_count": 30,
     "metadata": {},
     "output_type": "execute_result"
    }
   ],
   "source": [
    "from sklearn.metrics import confusion_matrix\n",
    "y_true = y_test\n",
    "y_predicted = rf.predict(X_test)\n",
    "y_predicted"
   ]
  },
  {
   "cell_type": "code",
   "execution_count": 31,
   "id": "b8765144",
   "metadata": {},
   "outputs": [
    {
     "data": {
      "text/plain": [
       "0.65"
      ]
     },
     "execution_count": 31,
     "metadata": {},
     "output_type": "execute_result"
    }
   ],
   "source": [
    "accuracy_score(y_test,y_predicted)"
   ]
  },
  {
   "cell_type": "code",
   "execution_count": 32,
   "id": "98cd4da5",
   "metadata": {},
   "outputs": [],
   "source": [
    "from sklearn.model_selection import validation_curve\n",
    "train_scores, test_scores = validation_curve(RandomForestClassifier(),X=X_train,y=y_train, param_name='n_estimators', param_range=np.arange(1, 10, 1), cv=3)\n"
   ]
  },
  {
   "cell_type": "code",
   "execution_count": 33,
   "id": "62472789",
   "metadata": {},
   "outputs": [],
   "source": [
    "param_range=np.arange(1, 10, 1)"
   ]
  },
  {
   "cell_type": "code",
   "execution_count": 35,
   "id": "14991531",
   "metadata": {},
   "outputs": [],
   "source": [
    "from sklearn.metrics import roc_curve, auc"
   ]
  },
  {
   "cell_type": "code",
   "execution_count": 36,
   "id": "ace5961d",
   "metadata": {},
   "outputs": [
    {
     "data": {
      "image/png": "[encoded data removed]",
      "text/plain": [
       "<Figure size 432x288 with 1 Axes>"
      ]
     },
     "metadata": {
      "needs_background": "light"
     },
     "output_type": "display_data"
    }
   ],
   "source": [
    "n_estimators = [1, 2, 4, 8, 16, 32, 64, 100, 200]\n",
    "train_results = []\n",
    "test_results = []\n",
    "for estimator in n_estimators:\n",
    "   rf = RandomForestClassifier(n_estimators=estimator, n_jobs=-1)\n",
    "   rf.fit(X_train, y_train)\n",
    "   train_pred = rf.predict(X_train)\n",
    "   false_positive_rate, true_positive_rate, thresholds = roc_curve(y_train, train_pred)\n",
    "   roc_auc = auc(false_positive_rate, true_positive_rate)\n",
    "   train_results.append(roc_auc)\n",
    "   y_pred = rf.predict(X_test)\n",
    "   false_positive_rate, true_positive_rate, thresholds = roc_curve(y_test, y_pred)\n",
    "   roc_auc = auc(false_positive_rate, true_positive_rate)\n",
    "   test_results.append(roc_auc)\n",
    "from matplotlib.legend_handler import HandlerLine2D\n",
    "line1, = plt.plot(n_estimators, train_results, 'b', label='Train AUC')\n",
    "line2, = plt.plot(n_estimators, test_results, 'r', label='Test AUC')\n",
    "plt.legend(handler_map={line1: HandlerLine2D(numpoints=2)})\n",
    "plt.ylabel('AUC score')\n",
    "plt.xlabel('n_estimators')\n",
    "plt.show()"
   ]
  },
  {
   "cell_type": "code",
   "execution_count": 46,
   "id": "a46d691c",
   "metadata": {},
   "outputs": [
    {
     "data": {
      "text/plain": [
       "RandomForestClassifier(n_estimators=13)"
      ]
     },
     "execution_count": 46,
     "metadata": {},
     "output_type": "execute_result"
    }
   ],
   "source": [
    "rf2 = RandomForestClassifier(n_estimators=13)\n",
    "rf2.fit(X_train, y_train)"
   ]
  },
  {
   "cell_type": "code",
   "execution_count": 47,
   "id": "47055ef6",
   "metadata": {
    "scrolled": true
   },
   "outputs": [
    {
     "data": {
      "text/plain": [
       "array([0, 1, 0, 0, 0, 0, 0, 0, 0, 1, 1, 0, 0, 0, 1, 1, 0, 1, 0, 0],\n",
       "      dtype=int64)"
      ]
     },
     "execution_count": 47,
     "metadata": {},
     "output_type": "execute_result"
    }
   ],
   "source": [
    "y_true = y_test\n",
    "y_predicted = rf2.predict(X_test)\n",
    "y_predicted"
   ]
  },
  {
   "cell_type": "code",
   "execution_count": 48,
   "id": "4aceaa10",
   "metadata": {},
   "outputs": [
    {
     "data": {
      "text/plain": [
       "0.75"
      ]
     },
     "execution_count": 48,
     "metadata": {},
     "output_type": "execute_result"
    }
   ],
   "source": [
    "accuracy_score(y_test,y_predicted)"
   ]
  },
  {
   "cell_type": "code",
   "execution_count": 40,
   "id": "e2d63001",
   "metadata": {
    "scrolled": true
   },
   "outputs": [
    {
     "data": {
      "image/png": "[encoded data removed]",
      "text/plain": [
       "<Figure size 432x288 with 1 Axes>"
      ]
     },
     "metadata": {
      "needs_background": "light"
     },
     "output_type": "display_data"
    }
   ],
   "source": [
    "max_depths = np.linspace(1, 32, 32, endpoint=True)\n",
    "train_results = []\n",
    "test_results = []\n",
    "for max_depth in max_depths:\n",
    "   rf = RandomForestClassifier(max_depth=max_depth, n_jobs=-1)\n",
    "   rf.fit(X_train, y_train)\n",
    "   train_pred = rf.predict(X_train)\n",
    "   false_positive_rate, true_positive_rate, thresholds = roc_curve(y_train, train_pred)\n",
    "   roc_auc = auc(false_positive_rate, true_positive_rate)\n",
    "   train_results.append(roc_auc)\n",
    "   y_pred = rf.predict(X_test)\n",
    "   false_positive_rate, true_positive_rate, thresholds = roc_curve(y_test, y_pred)\n",
    "   roc_auc = auc(false_positive_rate, true_positive_rate)\n",
    "   test_results.append(roc_auc)\n",
    "from matplotlib.legend_handler import HandlerLine2D\n",
    "line1, = plt.plot(max_depths, train_results, 'b', label='Train AUC')\n",
    "line2, = plt.plot(max_depths, test_results, 'r', label='Test AUC')\n",
    "plt.legend(handler_map={line1: HandlerLine2D(numpoints=2)})\n",
    "plt.ylabel('AUC score')\n",
    "plt.xlabel('Tree depth')\n",
    "plt.show()"
   ]
  },
  {
   "cell_type": "code",
   "execution_count": 55,
   "id": "e0196f5b",
   "metadata": {},
   "outputs": [
    {
     "data": {
      "text/plain": [
       "array([0, 0, 0, 0, 0, 0, 0, 0, 0, 1, 1, 0, 1, 0, 1, 0, 0, 1, 0, 0],\n",
       "      dtype=int64)"
      ]
     },
     "execution_count": 55,
     "metadata": {},
     "output_type": "execute_result"
    }
   ],
   "source": [
    "rf2 = RandomForestClassifier(n_estimators=60,max_depth=18)\n",
    "rf2.fit(X_train, y_train)\n",
    "y_true = y_test\n",
    "y_predicted = rf2.predict(X_test)\n",
    "y_predicted"
   ]
  },
  {
   "cell_type": "code",
   "execution_count": 56,
   "id": "fbf7d0d2",
   "metadata": {},
   "outputs": [
    {
     "data": {
      "text/plain": [
       "0.8"
      ]
     },
     "execution_count": 56,
     "metadata": {},
     "output_type": "execute_result"
    }
   ],
   "source": [
    "accuracy_score(y_test,y_predicted)"
   ]
  },
  {
   "cell_type": "markdown",
   "id": "eb713322",
   "metadata": {},
   "source": [
    "# task 5"
   ]
  },
  {
   "cell_type": "code",
   "execution_count": 63,
   "id": "94261b50",
   "metadata": {},
   "outputs": [],
   "source": [
    "conf = confusion_matrix(y_true, y_predicted)"
   ]
  },
  {
   "cell_type": "code",
   "execution_count": 65,
   "id": "7ee5f407",
   "metadata": {},
   "outputs": [
    {
     "data": {
      "text/plain": [
       "array([[12,  1],\n",
       "       [ 3,  4]], dtype=int64)"
      ]
     },
     "execution_count": 65,
     "metadata": {},
     "output_type": "execute_result"
    }
   ],
   "source": [
    "conf"
   ]
  },
  {
   "cell_type": "code",
   "execution_count": 62,
   "id": "388b0ba8",
   "metadata": {
    "scrolled": true
   },
   "outputs": [
    {
     "name": "stdout",
     "output_type": "stream",
     "text": [
      "roc_auc_score for DecisionTree:  0.7472527472527473\n"
     ]
    }
   ],
   "source": [
    "from sklearn.metrics import roc_curve, roc_auc_score\n",
    "print('roc_auc_score for DecisionTree: ', roc_auc_score(y_test, y_predicted))"
   ]
  },
  {
   "cell_type": "code",
   "execution_count": 67,
   "id": "cbbb5ceb",
   "metadata": {},
   "outputs": [
    {
     "data": {
      "text/plain": [
       "0.9230769230769231"
      ]
     },
     "execution_count": 67,
     "metadata": {},
     "output_type": "execute_result"
    }
   ],
   "source": [
    "precision = conf[0][0]/(conf[0][0] + conf[0][1])\n",
    "precision"
   ]
  },
  {
   "cell_type": "code",
   "execution_count": 68,
   "id": "feeb098a",
   "metadata": {},
   "outputs": [
    {
     "data": {
      "text/plain": [
       "0.8"
      ]
     },
     "execution_count": 68,
     "metadata": {},
     "output_type": "execute_result"
    }
   ],
   "source": [
    "recall = conf[0][0]/(conf[0][0]+conf[1][0])\n",
    "recall"
   ]
  },
  {
   "cell_type": "code",
   "execution_count": null,
   "id": "4ba64763",
   "metadata": {},
   "outputs": [],
   "source": []
  }
 ],
 "metadata": {
  "kernelspec": {
   "display_name": "Python 3 (ipykernel)",
   "language": "python",
   "name": "python3"
  },
  "language_info": {
   "codemirror_mode": {
    "name": "ipython",
    "version": 3
   },
   "file_extension": ".py",
   "mimetype": "text/x-python",
   "name": "python",
   "nbconvert_exporter": "python",
   "pygments_lexer": "ipython3",
   "version": "3.9.7"
  }
 },
 "nbformat": 4,
 "nbformat_minor": 5
}
